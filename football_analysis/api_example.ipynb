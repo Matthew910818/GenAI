{
 "cells": [
  {
   "cell_type": "code",
   "execution_count": 1,
   "metadata": {},
   "outputs": [
    {
     "name": "stdout",
     "output_type": "stream",
     "text": [
      "Player with jersey number 44 is found at frame 378 and point (830, 430)\n"
     ]
    }
   ],
   "source": [
    "from get_player_by_frame_and_point import get_player_by_frame_and_point, load_tracks_from_file\n",
    "\n",
    "file_path = 'stubs/track_stubs.json'\n",
    "frame_num = 378\n",
    "point = (830, 430)\n",
    "tracks = load_tracks_from_file(file_path)\n",
    "\n",
    "track = get_player_by_frame_and_point(frame_num, point, file_path)\n",
    "\n",
    "jersey_number = track['jersey_number']\n",
    "print(f'Player with jersey number {jersey_number} is found at frame {frame_num} and point {point}')\n",
    "\n",
    "\n",
    "\n"
   ]
  }
 ],
 "metadata": {
  "kernelspec": {
   "display_name": "base",
   "language": "python",
   "name": "python3"
  },
  "language_info": {
   "codemirror_mode": {
    "name": "ipython",
    "version": 3
   },
   "file_extension": ".py",
   "mimetype": "text/x-python",
   "name": "python",
   "nbconvert_exporter": "python",
   "pygments_lexer": "ipython3",
   "version": "3.10.12"
  }
 },
 "nbformat": 4,
 "nbformat_minor": 2
}
