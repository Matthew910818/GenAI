{
 "cells": [
  {
   "cell_type": "code",
   "execution_count": null,
   "metadata": {},
   "outputs": [],
   "source": [
    "import openai\n",
    "\n",
    "# 設定 OpenAI API 金鑰\n",
    "openai.api_key = '你的API金鑰'\n",
    "path = \"/home/shen/Documents/ELTA_Contest/whisper/text_output/output.txt\"\n",
    "\n",
    "# 讀取 TXT 文件內容\n",
    "with open(path, 'r', encoding='utf-8') as file:\n",
    "    text = file.read()\n",
    "\n",
    "# 使用 OpenAI API 生成比賽敘述\n",
    "response = openai.ChatCompletion.create(\n",
    "    model=\"gpt4o\",  # 或者使用最新的模型\n",
    "    messages=[\n",
    "        {\"role\": \"system\", \"content\": \"你是一個專業的足球比賽評論員。\"},\n",
    "        {\"role\": \"user\", \"content\": f\"根據以下內容生成約500字的比賽敘述，去除廣告以及中場表演及節目介紹。\\n\\n{text}\"}\n",
    "    ]\n",
    ")\n",
    "\n",
    "# 獲取生成的文本\n",
    "generated_text = response.choices[0].message['content']\n",
    "save_path = \"/home/shen/Documents/ELTA_Contest/summarizer/output_generated.txt\"\n",
    "print(generated_text)\n",
    "with open(save_path, 'w', encoding='utf-8') as file:\n",
    "    file.write(generated_text)\n"
   ]
  }
 ],
 "metadata": {
  "language_info": {
   "name": "python"
  }
 },
 "nbformat": 4,
 "nbformat_minor": 2
}
