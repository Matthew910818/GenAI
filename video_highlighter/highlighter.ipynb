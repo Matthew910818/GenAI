{
 "cells": [
  {
   "cell_type": "code",
   "execution_count": 1,
   "metadata": {},
   "outputs": [
    {
     "name": "stdout",
     "output_type": "stream",
     "text": [
      "Moviepy - Running:\n",
      ">>> \"+ \" \".join(cmd)\n",
      "Moviepy - Command successful\n",
      "Moviepy - Running:\n",
      ">>> \"+ \" \".join(cmd)\n",
      "Moviepy - Command successful\n",
      "Moviepy - Running:\n",
      ">>> \"+ \" \".join(cmd)\n",
      "Moviepy - Command successful\n",
      "Moviepy - Running:\n",
      ">>> \"+ \" \".join(cmd)\n",
      "Moviepy - Command successful\n",
      "Moviepy - Running:\n",
      ">>> \"+ \" \".join(cmd)\n",
      "Moviepy - Command successful\n",
      "Moviepy - Running:\n",
      ">>> \"+ \" \".join(cmd)\n",
      "Moviepy - Command successful\n",
      "Moviepy - Running:\n",
      ">>> \"+ \" \".join(cmd)\n",
      "Moviepy - Command successful\n",
      "Moviepy - Running:\n",
      ">>> \"+ \" \".join(cmd)\n",
      "Moviepy - Command successful\n",
      "Moviepy - Running:\n",
      ">>> \"+ \" \".join(cmd)\n",
      "Moviepy - Command successful\n",
      "Moviepy - Running:\n",
      ">>> \"+ \" \".join(cmd)\n",
      "Moviepy - Command successful\n",
      "Moviepy - Running:\n",
      ">>> \"+ \" \".join(cmd)\n",
      "Moviepy - Command successful\n",
      "Moviepy - Running:\n",
      ">>> \"+ \" \".join(cmd)\n",
      "Moviepy - Command successful\n",
      "Moviepy - Running:\n",
      ">>> \"+ \" \".join(cmd)\n",
      "Moviepy - Command successful\n",
      "Moviepy - Running:\n",
      ">>> \"+ \" \".join(cmd)\n",
      "Moviepy - Command successful\n",
      "Moviepy - Running:\n",
      ">>> \"+ \" \".join(cmd)\n",
      "Moviepy - Command successful\n",
      "Moviepy - Building video /home/shen/Documents/ELTA_Contest/video_highlighter/highlight.mp4.\n",
      "MoviePy - Writing audio in highlightTEMP_MPY_wvf_snd.mp3\n"
     ]
    },
    {
     "name": "stderr",
     "output_type": "stream",
     "text": [
      "                                                                      \r"
     ]
    },
    {
     "name": "stdout",
     "output_type": "stream",
     "text": [
      "MoviePy - Done.\n",
      "Moviepy - Writing video /home/shen/Documents/ELTA_Contest/video_highlighter/highlight.mp4\n",
      "\n"
     ]
    },
    {
     "name": "stderr",
     "output_type": "stream",
     "text": [
      "                                                                 \r"
     ]
    },
    {
     "name": "stdout",
     "output_type": "stream",
     "text": [
      "Moviepy - Done !\n",
      "Moviepy - video ready /home/shen/Documents/ELTA_Contest/video_highlighter/highlight.mp4\n"
     ]
    }
   ],
   "source": [
    "from moviepy.video.io.VideoFileClip import VideoFileClip\n",
    "from moviepy.video.io.ffmpeg_tools import ffmpeg_extract_subclip\n",
    "from moviepy.editor import concatenate_videoclips\n",
    "\n",
    "# 定義剪輯片段的時間點（單位：秒）\n",
    "clips = [\n",
    "    (28 * 60, 28 * 60 + 7),   # 28:00 - 28:07\n",
    "    (34 * 60, 34 * 60 + 8),   # 34:00 - 34:08\n",
    "    (37 * 60 + 39, 37 * 60 + 47),   # 37:39 - 37:47\n",
    "    (38 * 60 + 50, 38 * 60 + 58),   # 38:50 - 38:58\n",
    "    (39 * 60 + 58, 40 * 60 + 6),    # 39:58 - 40:06\n",
    "    (46 * 60, 46 * 60 + 8),   # 46:00 - 46:08\n",
    "    (49 * 60 + 16, 49 * 60 + 24),   # 49:16 - 49:24\n",
    "    (55 * 60, 55 * 60 + 8),   # 55:00 - 55:08\n",
    "    (57 * 60 + 50, 57 * 60 + 58),   # 57:50 - 57:58\n",
    "    (59 * 60 + 10, 59 * 60 + 18),   # 59:10 - 59:18\n",
    "    (62 * 60, 62 * 60 + 8),   # 62:00 - 62:08\n",
    "    (66 * 60, 66 * 60 + 8),   # 66:00 - 66:08\n",
    "    (68 * 60, 68 * 60 + 8),   # 68:00 - 68:08\n",
    "    (71 * 60 + 45, 71 * 60 + 53),   # 71:45 - 71:53\n",
    "    (75 * 60, 75 * 60 + 8)    # 75:00 - 75:08\n",
    "]\n",
    "\n",
    "# 讀取影片\n",
    "video_path = '/home/shen/Documents/ELTA_Contest/video_full/2016-17 歐洲冠軍聯賽 - 6⧸4 皇家馬德里 VS 尤文圖斯 (冠軍賽).mp4'\n",
    "\n",
    "# 剪輯片段並儲存\n",
    "clip_paths = []\n",
    "for i, (start_time, end_time) in enumerate(clips):\n",
    "    output_path = f'/home/shen/Documents/ELTA_Contest/video_full/clip_{i + 1}.mp4'\n",
    "    ffmpeg_extract_subclip(video_path, start_time, end_time, targetname=output_path)\n",
    "    clip_paths.append(output_path)\n",
    "\n",
    "# 讀取剪輯片段\n",
    "clip_videos = [VideoFileClip(path) for path in clip_paths]\n",
    "\n",
    "# 合成為一部影片\n",
    "final_clip = concatenate_videoclips(clip_videos)\n",
    "\n",
    "# 儲存合成影片\n",
    "final_clip.write_videofile('/home/shen/Documents/ELTA_Contest/video_highlighter/highlight.mp4')\n",
    "\n",
    "\n"
   ]
  },
  {
   "cell_type": "code",
   "execution_count": 3,
   "metadata": {},
   "outputs": [
    {
     "name": "stdout",
     "output_type": "stream",
     "text": [
      "Moviepy - Building video /home/shen/Documents/ELTA_Contest/video_highlighter/highlight.mp4.\n",
      "MoviePy - Writing audio in highlightTEMP_MPY_wvf_snd.mp3\n"
     ]
    },
    {
     "name": "stderr",
     "output_type": "stream",
     "text": [
      "                                                                        \r"
     ]
    },
    {
     "name": "stdout",
     "output_type": "stream",
     "text": [
      "MoviePy - Done.\n",
      "Moviepy - Writing video /home/shen/Documents/ELTA_Contest/video_highlighter/highlight.mp4\n",
      "\n"
     ]
    },
    {
     "name": "stderr",
     "output_type": "stream",
     "text": [
      "                                                                   \r"
     ]
    },
    {
     "name": "stdout",
     "output_type": "stream",
     "text": [
      "Moviepy - Done !\n",
      "Moviepy - video ready /home/shen/Documents/ELTA_Contest/video_highlighter/highlight.mp4\n",
      "影片剪輯完成！\n"
     ]
    }
   ],
   "source": [
    "import moviepy.editor as mp\n",
    "\n",
    "# 輸入影片路徑\n",
    "input_video_path = '/home/shen/Documents/ELTA_Contest/video_full/2016-17 歐洲冠軍聯賽 - 6⧸4 皇家馬德里 VS 尤文圖斯 (冠軍賽).mp4'\n",
    "output_video_path = '/home/shen/Documents/ELTA_Contest/video_highlighter/highlight.mp4'\n",
    "\n",
    "# 定義剪輯片段\n",
    "clips = [\n",
    "    (3074.22, 3098.22),\n",
    "    (3102.22, 3165.22),\n",
    "    (3489.16, 3499.16),\n",
    "    (391.84, 429.84),\n",
    "    (6815.26, 6880.26),\n",
    "    (6835.2, 6913.2),\n",
    "    (7071.2, 7135.2),\n",
    "    (7345.2, 7371.2),\n",
    "    (7895.2, 7918.2),\n",
    "    (7951.2, 7999.38),\n",
    "    (8220.46, 8257.46),\n",
    "    (9447.46, 9496.0)\n",
    "]\n",
    "\n",
    "# 加載影片\n",
    "video = mp.VideoFileClip(input_video_path)\n",
    "\n",
    "# 剪輯片段並合併\n",
    "final_clips = [video.subclip(start, end) for start, end in clips]\n",
    "final_video = mp.concatenate_videoclips(final_clips)\n",
    "\n",
    "# 輸出影片\n",
    "final_video.write_videofile(output_video_path)\n",
    "\n",
    "print(\"影片剪輯完成！\")\n"
   ]
  }
 ],
 "metadata": {
  "kernelspec": {
   "display_name": "ELTA_Contest-pkqhgsus",
   "language": "python",
   "name": "python3"
  },
  "language_info": {
   "codemirror_mode": {
    "name": "ipython",
    "version": 3
   },
   "file_extension": ".py",
   "mimetype": "text/x-python",
   "name": "python",
   "nbconvert_exporter": "python",
   "pygments_lexer": "ipython3",
   "version": "3.10.12"
  }
 },
 "nbformat": 4,
 "nbformat_minor": 2
}
